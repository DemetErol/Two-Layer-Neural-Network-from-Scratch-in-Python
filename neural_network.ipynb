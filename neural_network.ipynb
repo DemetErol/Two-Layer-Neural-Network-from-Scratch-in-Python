{
 "cells": [
  {
   "cell_type": "code",
   "execution_count": 1,
   "id": "weighted-mapping",
   "metadata": {},
   "outputs": [],
   "source": [
    "import pandas as pd\n",
    "import numpy as np\n",
    "import matplotlib.pyplot as plt"
   ]
  },
  {
   "cell_type": "code",
   "execution_count": 2,
   "id": "connected-cable",
   "metadata": {},
   "outputs": [],
   "source": [
    "colnames=['sepal_length', 'sepal_width', 'petal_length', 'petal_width', 'class'] \n",
    "df=pd.read_csv(\"iris.data\", names=colnames, header=None)"
   ]
  },
  {
   "cell_type": "code",
   "execution_count": 3,
   "id": "italic-memorial",
   "metadata": {},
   "outputs": [
    {
     "data": {
      "text/html": [
       "<div>\n",
       "<style scoped>\n",
       "    .dataframe tbody tr th:only-of-type {\n",
       "        vertical-align: middle;\n",
       "    }\n",
       "\n",
       "    .dataframe tbody tr th {\n",
       "        vertical-align: top;\n",
       "    }\n",
       "\n",
       "    .dataframe thead th {\n",
       "        text-align: right;\n",
       "    }\n",
       "</style>\n",
       "<table border=\"1\" class=\"dataframe\">\n",
       "  <thead>\n",
       "    <tr style=\"text-align: right;\">\n",
       "      <th></th>\n",
       "      <th>sepal_length</th>\n",
       "      <th>sepal_width</th>\n",
       "      <th>petal_length</th>\n",
       "      <th>petal_width</th>\n",
       "      <th>class</th>\n",
       "    </tr>\n",
       "  </thead>\n",
       "  <tbody>\n",
       "    <tr>\n",
       "      <th>0</th>\n",
       "      <td>5.1</td>\n",
       "      <td>3.5</td>\n",
       "      <td>1.4</td>\n",
       "      <td>0.2</td>\n",
       "      <td>Iris-setosa</td>\n",
       "    </tr>\n",
       "    <tr>\n",
       "      <th>1</th>\n",
       "      <td>4.9</td>\n",
       "      <td>3.0</td>\n",
       "      <td>1.4</td>\n",
       "      <td>0.2</td>\n",
       "      <td>Iris-setosa</td>\n",
       "    </tr>\n",
       "    <tr>\n",
       "      <th>2</th>\n",
       "      <td>4.7</td>\n",
       "      <td>3.2</td>\n",
       "      <td>1.3</td>\n",
       "      <td>0.2</td>\n",
       "      <td>Iris-setosa</td>\n",
       "    </tr>\n",
       "    <tr>\n",
       "      <th>3</th>\n",
       "      <td>4.6</td>\n",
       "      <td>3.1</td>\n",
       "      <td>1.5</td>\n",
       "      <td>0.2</td>\n",
       "      <td>Iris-setosa</td>\n",
       "    </tr>\n",
       "    <tr>\n",
       "      <th>4</th>\n",
       "      <td>5.0</td>\n",
       "      <td>3.6</td>\n",
       "      <td>1.4</td>\n",
       "      <td>0.2</td>\n",
       "      <td>Iris-setosa</td>\n",
       "    </tr>\n",
       "  </tbody>\n",
       "</table>\n",
       "</div>"
      ],
      "text/plain": [
       "   sepal_length  sepal_width  petal_length  petal_width        class\n",
       "0           5.1          3.5           1.4          0.2  Iris-setosa\n",
       "1           4.9          3.0           1.4          0.2  Iris-setosa\n",
       "2           4.7          3.2           1.3          0.2  Iris-setosa\n",
       "3           4.6          3.1           1.5          0.2  Iris-setosa\n",
       "4           5.0          3.6           1.4          0.2  Iris-setosa"
      ]
     },
     "execution_count": 3,
     "metadata": {},
     "output_type": "execute_result"
    }
   ],
   "source": [
    "df.head()"
   ]
  },
  {
   "cell_type": "code",
   "execution_count": 4,
   "id": "conventional-liverpool",
   "metadata": {},
   "outputs": [
    {
     "name": "stdout",
     "output_type": "stream",
     "text": [
      "<class 'pandas.core.frame.DataFrame'>\n",
      "RangeIndex: 150 entries, 0 to 149\n",
      "Data columns (total 5 columns):\n",
      " #   Column        Non-Null Count  Dtype  \n",
      "---  ------        --------------  -----  \n",
      " 0   sepal_length  150 non-null    float64\n",
      " 1   sepal_width   150 non-null    float64\n",
      " 2   petal_length  150 non-null    float64\n",
      " 3   petal_width   150 non-null    float64\n",
      " 4   class         150 non-null    object \n",
      "dtypes: float64(4), object(1)\n",
      "memory usage: 6.0+ KB\n"
     ]
    }
   ],
   "source": [
    "df.info()"
   ]
  },
  {
   "cell_type": "code",
   "execution_count": 5,
   "id": "cooperative-jesus",
   "metadata": {},
   "outputs": [],
   "source": [
    "Y=df[\"class\"]\n",
    "X=df.drop(\"class\",axis=1)"
   ]
  },
  {
   "cell_type": "code",
   "execution_count": 6,
   "id": "informed-service",
   "metadata": {},
   "outputs": [],
   "source": [
    "from sklearn.preprocessing import LabelEncoder\n",
    "from keras.utils import np_utils\n",
    "\n",
    "#label encoding for 3 class\n",
    "enc = LabelEncoder()\n",
    "enc.fit(Y)\n",
    "Y=np_utils.to_categorical(enc.transform(Y))"
   ]
  },
  {
   "cell_type": "code",
   "execution_count": 7,
   "id": "written-nation",
   "metadata": {},
   "outputs": [
    {
     "data": {
      "text/plain": [
       "array([1., 0., 0.], dtype=float32)"
      ]
     },
     "execution_count": 7,
     "metadata": {},
     "output_type": "execute_result"
    }
   ],
   "source": [
    "Y[0]"
   ]
  },
  {
   "cell_type": "code",
   "execution_count": 8,
   "id": "established-manchester",
   "metadata": {},
   "outputs": [],
   "source": [
    "#split the data as train %80 and test data %20\n",
    "from sklearn.model_selection import train_test_split\n",
    "X_train, X_test, y_train, y_test = train_test_split(X, Y, test_size = 0.2, random_state = 0)"
   ]
  },
  {
   "cell_type": "code",
   "execution_count": 9,
   "id": "attempted-postcard",
   "metadata": {},
   "outputs": [],
   "source": [
    "# z = (x - u) / s\n",
    "from sklearn.preprocessing import StandardScaler\n",
    "scaler = StandardScaler()\n",
    "scaler.fit(X_train)\n",
    "X_train = scaler.transform(X_train)\n",
    "X_test = scaler.transform(X_test)"
   ]
  },
  {
   "cell_type": "code",
   "execution_count": 10,
   "id": "accepted-superior",
   "metadata": {},
   "outputs": [
    {
     "data": {
      "text/plain": [
       "(120, 4)"
      ]
     },
     "execution_count": 10,
     "metadata": {},
     "output_type": "execute_result"
    }
   ],
   "source": [
    "X_train.shape"
   ]
  },
  {
   "cell_type": "code",
   "execution_count": 11,
   "id": "handled-teaching",
   "metadata": {},
   "outputs": [],
   "source": [
    "class NeuralNetwork():\n",
    "    def __init__(self, layers, learning_rate, iterations):\n",
    "        self.params = {} #will include parameters like weight and bias \n",
    "        self.learning_rate = learning_rate\n",
    "        self.iterations = iterations\n",
    "        self.loss = [] #for loss values\n",
    "        self.layers = layers # node counts \n",
    "        self.sample_size = None\n",
    "        self.X = None\n",
    "        self.Y = None\n",
    "    \n",
    "    def init_weights_and_bias(self):\n",
    "        np.random.seed(1)\n",
    "        #initialize random values\n",
    "        self.params[\"w_1\"]=np.random.rand(self.layers[0],self.layers[1]) #weight1\n",
    "        self.params[\"w_2\"]=np.random.rand(self.layers[1],self.layers[2]) #weight2\n",
    "        #initialize zero\n",
    "        self.params[\"b_1\"]=np.zeros((self.layers[1],)) #bias1\n",
    "        self.params[\"b_2\"]=np.zeros((self.layers[2],)) #bias2\n",
    "    \n",
    "    def relu(self,Z):\n",
    "        # it return the value, if it is smaller than zero, it return zero.\n",
    "        max_val= np.maximum(0,Z)\n",
    "        return max_val\n",
    "    \n",
    "    def relu_derivative(self, z):\n",
    "        #if greater than 0, return 1, else return 0\n",
    "        return np.where(z> 0, 1, 0)\n",
    "    \n",
    "    def softmax(self,A):\n",
    "        #normalize the output of a network to a probability distribution over predicted output classes\n",
    "        expA = np.exp(A)\n",
    "        return expA / expA.sum(axis=1, keepdims=True)\n",
    "\n",
    "    def control(self,c):\n",
    "        c=np.maximum(c,0.0000000001) #return max for avoid mathematical problems\n",
    "        return c\n",
    "    \n",
    "    def forward_propagation(self):\n",
    "        # Z = wX + b\n",
    "        Z1 = np.dot(self.X,self.params[\"w_1\"]) + self.params[\"b_1\"]\n",
    "        # A1 = input of hidden layer\n",
    "        A1=self.relu(Z1)\n",
    "        Z2 = np.dot(A1,self.params[\"w_2\"]) + self.params[\"b_2\"]\n",
    "        # A2 = input of output layer\n",
    "        A2=self.softmax(Z2)         \n",
    "        # save calculated parameters\n",
    "        self.params[\"z1\"]=Z1\n",
    "        self.params[\"z2\"]=Z2\n",
    "        self.params[\"a1\"]=A1\n",
    "        self.params[\"a2\"]=A2\n",
    "        yhat=A2\n",
    "        #control for nan values\n",
    "        yhat=self.control(yhat)\n",
    "        #calculate loss values\n",
    "        loss= self.cross_entropy_loss(self.Y,yhat)\n",
    "        return yhat,loss\n",
    "    \n",
    "    def cross_entropy_loss(self, y, yhat):\n",
    "        #cross entropy= -∑ y* log(yhat)\n",
    "        loss= -np.sum(np.multiply(np.log(yhat),y))/self.sample_size\n",
    "        return loss\n",
    "    \n",
    "    def back_propagation(self,yhat):\n",
    "        #calculate derivatives of z,w,b values\n",
    "        dz2=yhat-self.Y\n",
    "        dw2=np.dot(self.params[\"a1\"].T,dz2)\n",
    "        db2=np.sum(dz2, axis=0, keepdims=True)\n",
    "        dz1=np.dot(dz2,self.params[\"w_2\"].T)*self.relu_derivative(self.params[\"z1\"])\n",
    "        dw1=np.dot(self.X.T,dz1)\n",
    "        db1=np.sum(dz1, axis=0, keepdims=True)\n",
    "\n",
    "        #update \n",
    "        self.params[\"w_1\"] = self.params[\"w_1\"]-(self.learning_rate*dw1)\n",
    "        self.params[\"w_2\"] = self.params[\"w_2\"]-(self.learning_rate*dw2)\n",
    "        self.params[\"b_2\"] = self.params[\"b_2\"]-(self.learning_rate*db2)\n",
    "        self.params[\"b_1\"] = self.params[\"b_1\"]-(self.learning_rate*db1)\n",
    "\n",
    "    def fit(self, X, y):\n",
    "        self.X = X\n",
    "        self.Y = y\n",
    "        self.sample_size = self.Y.shape[1]\n",
    "        #initialize weights and bias\n",
    "        self.init_weights_and_bias()\n",
    "        # loop for count of epoch\n",
    "        for i in range(self.iterations): \n",
    "            yhat, ls = self.forward_propagation()\n",
    "            self.loss.append(ls)\n",
    "            self.back_propagation(yhat)\n",
    "    \n",
    "    def predict(self, X):\n",
    "#       Z = wX + b\n",
    "        newZ=np.dot(X,self.params[\"w_1\"]) + self.params[\"b_1\"]\n",
    "        newA1=self.relu(newZ)\n",
    "        newZ2 = np.dot(newA1,self.params[\"w_2\"]) + self.params[\"b_2\"]\n",
    "        # newA2 = input of output layer\n",
    "        newA2=self.softmax(newZ2)\n",
    "        # value with the highest probability=1, others=0 in predictions\n",
    "        for each in range(X.shape[0]):\n",
    "            newA2[each] = np.where(newA2[each] == np.max(newA2[each]), 1, 0)\n",
    "        return newA2\n",
    "    \n",
    "    def acc(self, y, yhat):\n",
    "        #calculate accuracy\n",
    "        true_sum=0\n",
    "        for each in range(y.shape[0]):\n",
    "            if all(y[each]==yhat[each]): #like [0,1,0]==[0,1,0]\n",
    "                true_sum+=1\n",
    "        accuracy = (true_sum / len(y)) * 100\n",
    "        accuracy=round(accuracy,3) #3 digit after zero\n",
    "        return accuracy\n",
    "    \n",
    "    def plot_loss(self):\n",
    "        plt.plot(self.loss)\n",
    "        plt.xlabel(\"Iteration number\")\n",
    "        plt.ylabel(\"loss value\")\n",
    "        plt.title(\"Loss plot\")\n",
    "        plt.show()"
   ]
  },
  {
   "cell_type": "code",
   "execution_count": 12,
   "id": "mineral-benchmark",
   "metadata": {},
   "outputs": [
    {
     "data": {
      "text/plain": [
       "86.667"
      ]
     },
     "execution_count": 12,
     "metadata": {},
     "output_type": "execute_result"
    }
   ],
   "source": [
    "#[4,5,3]: 4 for node count of input layer(attribute number), 5 for hidden layer and 3 for output layer(class number)\n",
    "nn=NeuralNetwork([4,5,3], 0.001, 100) #100 forward and backward, with 0.001 learning rate\n",
    "nn.fit(X_train,y_train)\n",
    "yhat=nn.predict(X_test)\n",
    "nn.acc(y_test, yhat) #test accuracy"
   ]
  },
  {
   "cell_type": "code",
   "execution_count": 13,
   "id": "signal-charm",
   "metadata": {},
   "outputs": [
    {
     "data": {
      "text/plain": [
       "92.5"
      ]
     },
     "execution_count": 13,
     "metadata": {},
     "output_type": "execute_result"
    }
   ],
   "source": [
    "yhat_tr=nn.predict(X_train) \n",
    "nn.acc(y_train, yhat_tr) #train accuracy"
   ]
  },
  {
   "cell_type": "code",
   "execution_count": 14,
   "id": "generous-battlefield",
   "metadata": {},
   "outputs": [
    {
     "data": {
      "image/png": "[encoded data removed]",
      "text/plain": [
       "<Figure size 432x288 with 1 Axes>"
      ]
     },
     "metadata": {
      "needs_background": "light"
     },
     "output_type": "display_data"
    }
   ],
   "source": [
    "nn.plot_loss()"
   ]
  },
  {
   "cell_type": "code",
   "execution_count": 15,
   "id": "decreased-messaging",
   "metadata": {},
   "outputs": [
    {
     "data": {
      "text/plain": [
       "100.0"
      ]
     },
     "execution_count": 15,
     "metadata": {},
     "output_type": "execute_result"
    }
   ],
   "source": [
    "#[4,5,3]: 4 for node count of input layer(attribute number), 5 for hidden layer and 3 for output layer(class number)\n",
    "nn2=NeuralNetwork([4,5,3], 0.001, 250)  #250 forward and backward, with 0.001 learning rate\n",
    "nn2.fit(X_train,y_train)\n",
    "yhat2=nn2.predict(X_test)\n",
    "nn2.acc(y_test, yhat2)"
   ]
  },
  {
   "cell_type": "code",
   "execution_count": 16,
   "id": "raising-machinery",
   "metadata": {},
   "outputs": [
    {
     "data": {
      "text/plain": [
       "100.0"
      ]
     },
     "execution_count": 16,
     "metadata": {},
     "output_type": "execute_result"
    }
   ],
   "source": [
    "#[4,5,3]: 4 for node count of input layer(attribute number), 5 for hidden layer and 3 for output layer(class number)\n",
    "nn3=NeuralNetwork([4,5,3], 0.002, 100)  # with 0.002 learning rate, 100 iteration num.\n",
    "nn3.fit(X_train,y_train)\n",
    "yhat3=nn3.predict(X_test)\n",
    "nn3.acc(y_test, yhat3)"
   ]
  },
  {
   "cell_type": "code",
   "execution_count": 17,
   "id": "reasonable-narrow",
   "metadata": {},
   "outputs": [
    {
     "data": {
      "image/png": "[encoded data removed]",
      "text/plain": [
       "<Figure size 432x288 with 1 Axes>"
      ]
     },
     "metadata": {
      "needs_background": "light"
     },
     "output_type": "display_data"
    }
   ],
   "source": [
    "plt.plot(nn.loss,label=\"lr= 0.001,it_num= 100\")\n",
    "plt.plot(nn2.loss,label=\"lr= 0.001,it_num= 250\")\n",
    "plt.plot(nn3.loss,label=\"lr= 0.002,it_num= 100\")\n",
    "plt.xlabel(\"Iteration number\")\n",
    "plt.ylabel(\"loss value\")\n",
    "plt.title(\"Loss plot\")\n",
    "plt.legend()\n",
    "plt.show()"
   ]
  },
  {
   "cell_type": "code",
   "execution_count": null,
   "id": "discrete-delivery",
   "metadata": {},
   "outputs": [],
   "source": []
  }
 ],
 "metadata": {
  "kernelspec": {
   "display_name": "Python 3",
   "language": "python",
   "name": "python3"
  },
  "language_info": {
   "codemirror_mode": {
    "name": "ipython",
    "version": 3
   },
   "file_extension": ".py",
   "mimetype": "text/x-python",
   "name": "python",
   "nbconvert_exporter": "python",
   "pygments_lexer": "ipython3",
   "version": "3.8.5"
  }
 },
 "nbformat": 4,
 "nbformat_minor": 5
}
